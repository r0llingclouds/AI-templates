{
 "cells": [
  {
   "cell_type": "code",
   "execution_count": 1,
   "metadata": {},
   "outputs": [],
   "source": [
    "import sys\n",
    "import os\n",
    "# adapt depending on your project structure\n",
    "project_root = os.path.abspath(os.path.join(os.getcwd(), '../..'))\n",
    "if project_root not in sys.path:\n",
    "    sys.path.append(project_root)"
   ]
  },
  {
   "cell_type": "code",
   "execution_count": 2,
   "metadata": {},
   "outputs": [
    {
     "name": "stdout",
     "output_type": "stream",
     "text": [
      "2025-04-04 23:32:01,123 - INFO - app_logger - Starting clients preemptively\n",
      "2025-04-04 23:32:02,430 - DEBUG - watsonx_logger - WatsonX Client successfully initialized.\n",
      "2025-04-04 23:32:03,662 - DEBUG - milvus_logger - Milvus Client successfully initialized.\n",
      "2025-04-04 23:32:04,193 - INFO - app_logger - All clients started correctly\n",
      "2025-04-04 23:32:06,459 - DEBUG - milvus_logger - Milvus Client successfully initialized.\n"
     ]
    }
   ],
   "source": [
    "# Import the config classes\n",
    "from aeat_code_rag_backend.env import MilvusConfig, EmbeddingsConfig\n",
    "\n",
    "# Create config instances (will load from .env automatically)\n",
    "milvus_config = MilvusConfig()\n",
    "embeddings_config = EmbeddingsConfig()\n",
    "\n",
    "from aeat_code_rag_backend.connectors.MilvusClient import MilvusClient\n",
    "\n",
    "milvus_client = MilvusClient(config=milvus_config, embeddingsconfig=embeddings_config)"
   ]
  },
  {
   "cell_type": "code",
   "execution_count": 15,
   "metadata": {},
   "outputs": [
    {
     "name": "stdout",
     "output_type": "stream",
     "text": [
      "2025-04-04 23:33:06,115 - DEBUG - milvus_logger - Found 1 collections\n"
     ]
    },
    {
     "data": {
      "text/plain": [
       "['programming_languages']"
      ]
     },
     "execution_count": 15,
     "metadata": {},
     "output_type": "execute_result"
    }
   ],
   "source": [
    "milvus_client.list_collections()"
   ]
  },
  {
   "cell_type": "code",
   "execution_count": 17,
   "metadata": {},
   "outputs": [],
   "source": [
    "# Collection name\n",
    "collection_name = \"programming_languages\""
   ]
  },
  {
   "cell_type": "code",
   "execution_count": null,
   "metadata": {},
   "outputs": [],
   "source": [
    "# milvus_client.delete_collection('collection_name')"
   ]
  },
  {
   "cell_type": "code",
   "execution_count": 4,
   "metadata": {},
   "outputs": [
    {
     "data": {
      "text/plain": [
       "{'collection_name': 'programming_languages',\n",
       " 'auto_id': True,\n",
       " 'num_shards': 1,\n",
       " 'description': '',\n",
       " 'fields': [{'field_id': 100,\n",
       "   'name': 'id',\n",
       "   'description': '',\n",
       "   'type': <DataType.INT64: 5>,\n",
       "   'params': {},\n",
       "   'auto_id': True,\n",
       "   'is_primary': True},\n",
       "  {'field_id': 101,\n",
       "   'name': 'text',\n",
       "   'description': '',\n",
       "   'type': <DataType.VARCHAR: 21>,\n",
       "   'params': {'max_length': 1000, 'enable_analyzer': 'true'}},\n",
       "  {'field_id': 102,\n",
       "   'name': 'sparse',\n",
       "   'description': '',\n",
       "   'type': <DataType.SPARSE_FLOAT_VECTOR: 104>,\n",
       "   'params': {},\n",
       "   'is_function_output': True},\n",
       "  {'field_id': 103,\n",
       "   'name': 'dense',\n",
       "   'description': '',\n",
       "   'type': <DataType.FLOAT_VECTOR: 101>,\n",
       "   'params': {'dim': 1024}}],\n",
       " 'functions': [{'name': 'text_bm25_emb',\n",
       "   'id': 100,\n",
       "   'description': '',\n",
       "   'type': <FunctionType.BM25: 1>,\n",
       "   'params': {},\n",
       "   'input_field_names': ['text'],\n",
       "   'input_field_ids': [101],\n",
       "   'output_field_names': ['sparse'],\n",
       "   'output_field_ids': [102]}],\n",
       " 'aliases': [],\n",
       " 'collection_id': 457077134856819078,\n",
       " 'consistency_level': 2,\n",
       " 'properties': {},\n",
       " 'num_partitions': 1,\n",
       " 'enable_dynamic_field': True,\n",
       " 'created_timestamp': 457127141883510787,\n",
       " 'row_count': 0}"
      ]
     },
     "execution_count": 4,
     "metadata": {},
     "output_type": "execute_result"
    }
   ],
   "source": [
    "milvus_client.get_collection_stats(collection_name)"
   ]
  },
  {
   "cell_type": "code",
   "execution_count": 4,
   "metadata": {},
   "outputs": [],
   "source": [
    "# Sample data\n",
    "sample_documents = [\n",
    "    {\n",
    "        \"text\": \"Python is a high-level, interpreted programming language known for its readability and versatility. It's widely used in data science, AI, and web development.\"\n",
    "    },\n",
    "    {\n",
    "        \"text\": \"JavaScript is a scripting language that enables interactive web pages and is an essential part of web development. It works alongside HTML and CSS.\"\n",
    "    },\n",
    "    {\n",
    "        \"text\": \"Java is a class-based, object-oriented programming language that is designed to have as few implementation dependencies as possible.\"\n",
    "    },\n",
    "    {\n",
    "        \"text\": \"C# is a general-purpose, multi-paradigm programming language developed by Microsoft. It's widely used for developing Windows applications and games with Unity.\"\n",
    "    },\n",
    "    {\n",
    "        \"text\": \"Swift is a powerful programming language developed by Apple for iOS, macOS, watchOS, and tvOS app development.\"\n",
    "    }\n",
    "]"
   ]
  },
  {
   "cell_type": "code",
   "execution_count": 5,
   "metadata": {},
   "outputs": [
    {
     "name": "stdout",
     "output_type": "stream",
     "text": [
      "2025-04-04 23:20:58,096 - INFO - milvus_logger - Collection programming_languages already exists, dropping it\n",
      "2025-04-04 23:21:00,288 - DEBUG - milvus_logger - Created collection: programming_languages\n",
      "2025-04-04 23:21:02,554 - DEBUG - milvus_logger - Prepared 5 documents with embeddings\n",
      "2025-04-04 23:21:02,694 - DEBUG - milvus_logger - Inserted 5 documents into programming_languages\n",
      "Created collection and inserted data: {'insert_count': 5, 'ids': [457077134854783276, 457077134854783277, 457077134854783278, 457077134854783279, 457077134854783280]}\n"
     ]
    }
   ],
   "source": [
    "# Create collection and insert data\n",
    "result = milvus_client.create_and_load_collection(collection_name, sample_documents)\n",
    "print(f\"Created collection and inserted data: {result}\")"
   ]
  },
  {
   "cell_type": "code",
   "execution_count": 4,
   "metadata": {},
   "outputs": [
    {
     "name": "stdout",
     "output_type": "stream",
     "text": [
      "Swift is a powerful programming language developed by Apple for iOS, macOS, watchOS, and tvOS app development.\n",
      "ID: 457077134854783280\n",
      "Distance: 2.535745859146118\n",
      "--------------------------------\n",
      "C# is a general-purpose, multi-paradigm programming language developed by Microsoft. It's widely used for developing Windows applications and games with Unity.\n",
      "ID: 457077134854783279\n",
      "Distance: 1.6978446245193481\n",
      "--------------------------------\n",
      "Python is a high-level, interpreted programming language known for its readability and versatility. It's widely used in data science, AI, and web development.\n",
      "ID: 457077134854783276\n",
      "Distance: 0.8654128313064575\n",
      "--------------------------------\n",
      "JavaScript is a scripting language that enables interactive web pages and is an essential part of web development. It works alongside HTML and CSS.\n",
      "ID: 457077134854783277\n",
      "Distance: 0.6035613417625427\n",
      "--------------------------------\n",
      "Java is a class-based, object-oriented programming language that is designed to have as few implementation dependencies as possible.\n",
      "ID: 457077134854783278\n",
      "Distance: 0.38916662335395813\n",
      "--------------------------------\n"
     ]
    }
   ],
   "source": [
    "query_text = \"programming language with iOS development\"\n",
    "dense_results = milvus_client.sparse_search(collection_name, query_text, limit=5)\n",
    "for result in dense_results:\n",
    "    print(result['entity']['text'])\n",
    "    print(f\"ID: {result['id']}\")\n",
    "    print(f\"Distance: {result['distance']}\")\n",
    "    print(\"--------------------------------\")"
   ]
  },
  {
   "cell_type": "code",
   "execution_count": 16,
   "metadata": {},
   "outputs": [
    {
     "name": "stdout",
     "output_type": "stream",
     "text": [
      "Swift is a powerful programming language developed by Apple for iOS, macOS, watchOS, and tvOS app development.\n",
      "ID: 457077134854783280\n",
      "Distance: 0.8745343685150146\n",
      "--------------------------------\n",
      "JavaScript is a scripting language that enables interactive web pages and is an essential part of web development. It works alongside HTML and CSS.\n",
      "ID: 457077134854783277\n",
      "Distance: 0.8248165845870972\n",
      "--------------------------------\n",
      "C# is a general-purpose, multi-paradigm programming language developed by Microsoft. It's widely used for developing Windows applications and games with Unity.\n",
      "ID: 457077134854783279\n",
      "Distance: 0.821643590927124\n",
      "--------------------------------\n",
      "Java is a class-based, object-oriented programming language that is designed to have as few implementation dependencies as possible.\n",
      "ID: 457077134854783278\n",
      "Distance: 0.8170634508132935\n",
      "--------------------------------\n",
      "Python is a high-level, interpreted programming language known for its readability and versatility. It's widely used in data science, AI, and web development.\n",
      "ID: 457077134854783276\n",
      "Distance: 0.8167596459388733\n",
      "--------------------------------\n"
     ]
    }
   ],
   "source": [
    "query_text = \"programming language with iOS development\"\n",
    "dense_results = milvus_client.dense_search(collection_name, query_text, limit=5)\n",
    "for result in dense_results:\n",
    "    print(result['entity']['text'])\n",
    "    print(f\"ID: {result['id']}\")\n",
    "    print(f\"Distance: {result['distance']}\")\n",
    "    print(\"--------------------------------\")"
   ]
  },
  {
   "cell_type": "code",
   "execution_count": 18,
   "metadata": {},
   "outputs": [
    {
     "name": "stdout",
     "output_type": "stream",
     "text": [
      "2025-04-04 23:26:19,404 - DEBUG - milvus_logger - Using WeightedRanker with weights 0.3 and 0.7\n",
      "Python is a high-level, interpreted programming language known for its readability and versatility. It's widely used in data science, AI, and web development.\n",
      "ID: 457077134854783276\n",
      "Distance: 0.7242634892463684\n",
      "--------------------------------\n",
      "JavaScript is a scripting language that enables interactive web pages and is an essential part of web development. It works alongside HTML and CSS.\n",
      "ID: 457077134854783277\n",
      "Distance: 0.7108761072158813\n",
      "--------------------------------\n",
      "Swift is a powerful programming language developed by Apple for iOS, macOS, watchOS, and tvOS app development.\n",
      "ID: 457077134854783280\n",
      "Distance: 0.6993676424026489\n",
      "--------------------------------\n",
      "C# is a general-purpose, multi-paradigm programming language developed by Microsoft. It's widely used for developing Windows applications and games with Unity.\n",
      "ID: 457077134854783279\n",
      "Distance: 0.6399834156036377\n",
      "--------------------------------\n",
      "Java is a class-based, object-oriented programming language that is designed to have as few implementation dependencies as possible.\n",
      "ID: 457077134854783278\n",
      "Distance: 0.5741152763366699\n",
      "--------------------------------\n"
     ]
    }
   ],
   "source": [
    "query_text = \"programming language for web development\"\n",
    "dense_results = milvus_client.hybrid_search(collection_name, query_text, sparse_weight=0.3, dense_weight=0.7)\n",
    "for result in dense_results:\n",
    "    print(result['entity']['text'])\n",
    "    print(f\"ID: {result['id']}\")\n",
    "    print(f\"Distance: {result['distance']}\")\n",
    "    print(\"--------------------------------\")"
   ]
  },
  {
   "cell_type": "code",
   "execution_count": 18,
   "metadata": {},
   "outputs": [
    {
     "name": "stdout",
     "output_type": "stream",
     "text": [
      "2025-04-04 23:34:31,434 - DEBUG - milvus_logger - Using RRFRanker with k=100\n",
      "JavaScript is a scripting language that enables interactive web pages and is an essential part of web development. It works alongside HTML and CSS.\n",
      "ID: 457077134854783277\n",
      "Distance: 0.0197049118578434\n",
      "--------------------------------\n",
      "Python is a high-level, interpreted programming language known for its readability and versatility. It's widely used in data science, AI, and web development.\n",
      "ID: 457077134854783276\n",
      "Distance: 0.0196097269654274\n",
      "--------------------------------\n",
      "Swift is a powerful programming language developed by Apple for iOS, macOS, watchOS, and tvOS app development.\n",
      "ID: 457077134854783280\n",
      "Distance: 0.019512660801410675\n",
      "--------------------------------\n",
      "Java is a class-based, object-oriented programming language that is designed to have as few implementation dependencies as possible.\n",
      "ID: 457077134854783278\n",
      "Distance: 0.01913919486105442\n",
      "--------------------------------\n",
      "C# is a general-purpose, multi-paradigm programming language developed by Microsoft. It's widely used for developing Windows applications and games with Unity.\n",
      "ID: 457077134854783279\n",
      "Distance: 0.01913919486105442\n",
      "--------------------------------\n"
     ]
    }
   ],
   "source": [
    "query_text = \"programming language for web development\"\n",
    "dense_results = milvus_client.hybrid_search(collection_name, query_text, ranker_type=\"rrf\", k=100)\n",
    "for result in dense_results:\n",
    "    print(result['entity']['text'])\n",
    "    print(f\"ID: {result['id']}\")\n",
    "    print(f\"Distance: {result['distance']}\")\n",
    "    print(\"--------------------------------\")"
   ]
  }
 ],
 "metadata": {
  "kernelspec": {
   "display_name": ".venv",
   "language": "python",
   "name": "python3"
  },
  "language_info": {
   "codemirror_mode": {
    "name": "ipython",
    "version": 3
   },
   "file_extension": ".py",
   "mimetype": "text/x-python",
   "name": "python",
   "nbconvert_exporter": "python",
   "pygments_lexer": "ipython3",
   "version": "3.11.11"
  }
 },
 "nbformat": 4,
 "nbformat_minor": 2
}
